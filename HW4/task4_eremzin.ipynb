{
 "cells": [
  {
   "cell_type": "code",
   "execution_count": 1,
   "metadata": {},
   "outputs": [
    {
     "name": "stdout",
     "output_type": "stream",
     "text": [
      "Starting Spark application\n"
     ]
    },
    {
     "data": {
      "text/html": [
       "<table>\n",
       "<tr><th>ID</th><th>YARN Application ID</th><th>Kind</th><th>State</th><th>Spark UI</th><th>Driver log</th><th>Current session?</th></tr><tr><td>534</td><td>application_1667827781736_0990</td><td>pyspark</td><td>idle</td><td><a target=\"_blank\" href=\"http://vk-edu-2022-c03007a37-Head-0.mcs.local:8088/proxy/application_1667827781736_0990/\">Link</a></td><td><a target=\"_blank\" href=\"http://vk-edu-2022-c03007a37-Worker-2.mcs.local:8042/node/containerlogs/container_e02_1667827781736_0990_01_000001/eremzin\">Link</a></td><td>✔</td></tr></table>"
      ],
      "text/plain": [
       "<IPython.core.display.HTML object>"
      ]
     },
     "metadata": {},
     "output_type": "display_data"
    },
    {
     "name": "stdout",
     "output_type": "stream",
     "text": [
      "SparkSession available as 'spark'.\n"
     ]
    }
   ],
   "source": [
    "user = \"eremzin\""
   ]
  },
  {
   "cell_type": "code",
   "execution_count": 2,
   "metadata": {},
   "outputs": [],
   "source": [
    "from pyspark.sql.types import *\n",
    "import pyspark.sql.functions as sf\n",
    "\n",
    "current_dt = \"2022-10-26\"\n",
    "\n",
    "price_path = \"/user/{}/data/data3/rosstat/price/*\".format(user)\n",
    "city_path = \"/user/{}/data/data3/rosstat/city.csv\".format(user)\n",
    "product_path = \"/user/{}/data/data3/rosstat/product.csv\".format(user)\n",
    "products_for_stat_path = \"/user/{}/data/data3/rosstat/products_for_stat.csv\".format(user)\n",
    "product_join_price_path = \"/user/{}/data/data3/rosstat/products_for_stat.csv\".format(user)\n",
    "\n",
    "demography_path = \"/user/{}/data/data3/ok/coreDemography\".format(user)\n",
    "country_path = \"/user/{}/data/data3/ok/geography/countries.csv\".format(user)\n",
    "rs_city_path = \"/user/{}/data/data3/ok/geography/rs_city.csv\".format(user)\n",
    "\n",
    "# Путь до результата\n",
    "output_path = \"/user/{}/task4\".format(user)"
   ]
  },
  {
   "cell_type": "code",
   "execution_count": 3,
   "metadata": {},
   "outputs": [],
   "source": [
    "debugMode = True"
   ]
  },
  {
   "cell_type": "markdown",
   "metadata": {},
   "source": [
    "## Загрузка таблиц"
   ]
  },
  {
   "cell_type": "markdown",
   "metadata": {},
   "source": [
    "#### Данные по ценам на товары в разных городах"
   ]
  },
  {
   "cell_type": "code",
   "execution_count": 4,
   "metadata": {},
   "outputs": [
    {
     "name": "stdout",
     "output_type": "stream",
     "text": [
      "root\n",
      " |-- city_id: string (nullable = true)\n",
      " |-- product_id: integer (nullable = true)\n",
      " |-- price: float (nullable = true)\n",
      "\n",
      "+-------+----------+------+\n",
      "|city_id|product_id|price |\n",
      "+-------+----------+------+\n",
      "|193    |437       |529.38|\n",
      "|126    |34        |684.46|\n",
      "|41     |338       |12.81 |\n",
      "+-------+----------+------+\n",
      "only showing top 3 rows"
     ]
    }
   ],
   "source": [
    "priceSchema = ( \n",
    "    StructType()\n",
    "    .add(\"city_id\", StringType())\n",
    "    .add(\"product_id\", IntegerType()) \n",
    "    .add(\"price\", StringType())\n",
    ")\n",
    "\n",
    "priceDF = ( \n",
    "    spark.read\n",
    "    .option(\"header\", \"false\")\n",
    "    .option(\"sep\", \";\")\n",
    "    .schema(priceSchema)\n",
    "    .csv(price_path)\n",
    ")\n",
    "\n",
    "priceDF = (\n",
    "    priceDF.dropna()\n",
    "    .select(\n",
    "        sf.col(\"city_id\"),\n",
    "        sf.col(\"product_id\"),\n",
    "        sf.regexp_replace(sf.col(\"price\"), \",\", \".\").cast(FloatType()).alias(\"price\")\n",
    "    )\n",
    ")\n",
    "\n",
    "if debugMode:\n",
    "    priceDF.printSchema()\n",
    "    priceDF.show(3, False)"
   ]
  },
  {
   "cell_type": "markdown",
   "metadata": {},
   "source": [
    "#### Справочник городов"
   ]
  },
  {
   "cell_type": "code",
   "execution_count": 5,
   "metadata": {},
   "outputs": [
    {
     "name": "stdout",
     "output_type": "stream",
     "text": [
      "root\n",
      " |-- city: string (nullable = true)\n",
      " |-- city_id: integer (nullable = true)\n",
      "\n",
      "+------------+-------+\n",
      "|city        |city_id|\n",
      "+------------+-------+\n",
      "|Белгород    |1      |\n",
      "|Губкин      |2      |\n",
      "|Старый Оскол|3      |\n",
      "+------------+-------+\n",
      "only showing top 3 rows"
     ]
    }
   ],
   "source": [
    "citySchema = ( \n",
    "    StructType()\n",
    "    .add(\"city\",StringType())\n",
    "    .add(\"city_id\",IntegerType()) \n",
    ")\n",
    "\n",
    "cityDF = ( \n",
    "    spark.read\n",
    "    .option(\"header\", \"false\")\n",
    "    .option(\"sep\", \";\")\n",
    "    .schema(citySchema)\n",
    "    .csv(city_path)\n",
    ")\n",
    "\n",
    "if debugMode:\n",
    "    cityDF.printSchema()\n",
    "    cityDF.show(3, False)"
   ]
  },
  {
   "cell_type": "markdown",
   "metadata": {},
   "source": [
    "#### Справочник товаров и услуг"
   ]
  },
  {
   "cell_type": "code",
   "execution_count": 6,
   "metadata": {},
   "outputs": [
    {
     "name": "stdout",
     "output_type": "stream",
     "text": [
      "root\n",
      " |-- product: string (nullable = true)\n",
      " |-- product_id: integer (nullable = true)\n",
      "\n",
      "+----------------------------+----------+\n",
      "|product                     |product_id|\n",
      "+----------------------------+----------+\n",
      "|Фарш мясной, кг             |1         |\n",
      "|Пельмени, манты, равиоли, кг|2         |\n",
      "|Печень говяжья, кг          |3         |\n",
      "+----------------------------+----------+\n",
      "only showing top 3 rows"
     ]
    }
   ],
   "source": [
    "productSchema = ( \n",
    "    StructType()\n",
    "    .add(\"product\",StringType())\n",
    "    .add(\"product_id\",IntegerType()) \n",
    ")\n",
    "\n",
    "productDF = ( \n",
    "    spark.read\n",
    "    .option(\"header\", \"false\")\n",
    "    .option(\"sep\", \";\")\n",
    "    .schema(productSchema)\n",
    "    .csv(product_path)\n",
    ")\n",
    "\n",
    "if debugMode:\n",
    "    productDF.printSchema()\n",
    "    productDF.show(3, False)"
   ]
  },
  {
   "cell_type": "markdown",
   "metadata": {},
   "source": [
    "#### Идентификаторы товаров для которых нужно собрать статистику"
   ]
  },
  {
   "cell_type": "code",
   "execution_count": 7,
   "metadata": {},
   "outputs": [
    {
     "name": "stdout",
     "output_type": "stream",
     "text": [
      "root\n",
      " |-- product_id: integer (nullable = true)\n",
      "\n",
      "+----------+\n",
      "|product_id|\n",
      "+----------+\n",
      "|355       |\n",
      "|446       |\n",
      "|114       |\n",
      "+----------+\n",
      "only showing top 3 rows"
     ]
    }
   ],
   "source": [
    "productForStatSchema = StructType().add(\"product_id\",IntegerType())\n",
    "\n",
    "productForStatDF = ( \n",
    "    spark.read\n",
    "    .option(\"header\", \"false\")\n",
    "    .schema(productForStatSchema)\n",
    "    .csv(products_for_stat_path)\n",
    ")\n",
    "\n",
    "if debugMode:\n",
    "    productForStatDF.printSchema()\n",
    "    productForStatDF.show(3, False)"
   ]
  },
  {
   "cell_type": "markdown",
   "metadata": {},
   "source": [
    "#### Сырые данные демографии пользователей"
   ]
  },
  {
   "cell_type": "code",
   "execution_count": 8,
   "metadata": {},
   "outputs": [
    {
     "name": "stdout",
     "output_type": "stream",
     "text": [
      "root\n",
      " |-- user_id: integer (nullable = true)\n",
      " |-- create_date: string (nullable = true)\n",
      " |-- birth_date: integer (nullable = true)\n",
      " |-- gender: integer (nullable = true)\n",
      " |-- id_country: string (nullable = true)\n",
      " |-- id_city: integer (nullable = true)\n",
      " |-- login_region: integer (nullable = true)\n",
      "\n",
      "+--------+-------------+----------+------+-----------+-------+------------+\n",
      "|user_id |create_date  |birth_date|gender|id_country |id_city|login_region|\n",
      "+--------+-------------+----------+------+-----------+-------+------------+\n",
      "|16460783|1182885174073|486       |2     |10414533690|1078547|85          |\n",
      "|16467391|1176953226317|4669      |2     |10414533690|1384327|85          |\n",
      "|16467889|1169816093060|6861      |2     |10414533690|33438  |null        |\n",
      "+--------+-------------+----------+------+-----------+-------+------------+\n",
      "only showing top 3 rows"
     ]
    }
   ],
   "source": [
    "rawCoreDemographySchema = ( \n",
    "    StructType()\n",
    "    .add(\"user_id\",IntegerType())\n",
    "    .add(\"create_date\",StringType())\n",
    "    .add(\"birth_date\",IntegerType())\n",
    "    .add(\"gender\",IntegerType())\n",
    "    .add(\"id_country\",StringType())\n",
    "    .add(\"id_city\",IntegerType())\n",
    "    .add(\"login_region\",IntegerType())\n",
    "         )\n",
    "\n",
    "rawCoreDemographyDF = ( \n",
    "    spark.read\n",
    "    .option(\"header\", \"false\")\n",
    "    .option(\"sep\", \"\\t\")\n",
    "    .schema(rawCoreDemographySchema)\n",
    "    .csv(demography_path)\n",
    ")\n",
    "\n",
    "if debugMode:\n",
    "    rawCoreDemographyDF.printSchema()\n",
    "    rawCoreDemographyDF.show(3, False)"
   ]
  },
  {
   "cell_type": "markdown",
   "metadata": {},
   "source": [
    "#### Идентификатор РФ"
   ]
  },
  {
   "cell_type": "code",
   "execution_count": 9,
   "metadata": {},
   "outputs": [
    {
     "name": "stdout",
     "output_type": "stream",
     "text": [
      "Russia ID: 10414533690"
     ]
    }
   ],
   "source": [
    "countrySchema = ( \n",
    "    StructType()\n",
    "    .add(\"id\",StringType())\n",
    "    .add(\"name\",StringType())\n",
    ")\n",
    "\n",
    "countryDF = ( \n",
    "    spark.read\n",
    "    .option(\"header\", \"false\")\n",
    "    .option(\"sep\", \",\")\n",
    "    .schema(countrySchema)\n",
    "    .csv(country_path)\n",
    ")\n",
    "\n",
    "RussiaID = (\n",
    "    countryDF\n",
    "    .select(\"id\")\n",
    "    .where(sf.col(\"name\") == \"Россия\")\n",
    ").collect()[0][0]\n",
    "\n",
    "if debugMode:\n",
    "    print(\"Russia ID: {}\".format(RussiaID))"
   ]
  },
  {
   "cell_type": "markdown",
   "metadata": {},
   "source": [
    "#### Данные демографии пользователей из РФ"
   ]
  },
  {
   "cell_type": "code",
   "execution_count": 10,
   "metadata": {},
   "outputs": [
    {
     "name": "stdout",
     "output_type": "stream",
     "text": [
      "root\n",
      " |-- user_id: integer (nullable = true)\n",
      " |-- birth_date: integer (nullable = true)\n",
      " |-- gender: integer (nullable = true)\n",
      " |-- id_city: integer (nullable = true)\n",
      " |-- login_region: integer (nullable = true)\n",
      "\n",
      "+--------+----------+------+-------+------------+\n",
      "|user_id |birth_date|gender|id_city|login_region|\n",
      "+--------+----------+------+-------+------------+\n",
      "|16460783|41990400  |2     |1078547|85          |\n",
      "|16467391|403401600 |2     |1384327|85          |\n",
      "|16467889|592790400 |2     |33438  |null        |\n",
      "+--------+----------+------+-------+------------+\n",
      "only showing top 3 rows"
     ]
    }
   ],
   "source": [
    "coreDemographyDF = (\n",
    "    rawCoreDemographyDF\n",
    "    .select(\n",
    "        sf.col(\"user_id\"),\n",
    "        (sf.col(\"birth_date\") * (24 * 60 * 60)).alias(\"birth_date\"), # перевод из дней в секунды (unix time) \n",
    "        sf.col(\"gender\"),\n",
    "        sf.col(\"id_city\"),\n",
    "        sf.col(\"login_region\"),\n",
    "    )\n",
    "    .where(sf.col(\"id_country\") == RussiaID)\n",
    ")\n",
    "\n",
    "if debugMode:\n",
    "    coreDemographyDF.printSchema()\n",
    "    coreDemographyDF.show(3, False)"
   ]
  },
  {
   "cell_type": "markdown",
   "metadata": {},
   "source": [
    "#### Справочник соответствия городов  Росстат "
   ]
  },
  {
   "cell_type": "code",
   "execution_count": 11,
   "metadata": {},
   "outputs": [
    {
     "name": "stdout",
     "output_type": "stream",
     "text": [
      "root\n",
      " |-- ok_city_id: integer (nullable = true)\n",
      " |-- rs_city_id: integer (nullable = true)\n",
      "\n",
      "+----------+----------+\n",
      "|ok_city_id|rs_city_id|\n",
      "+----------+----------+\n",
      "|1000792   |1         |\n",
      "|6190119   |2         |\n",
      "|613013    |3         |\n",
      "+----------+----------+\n",
      "only showing top 3 rows"
     ]
    }
   ],
   "source": [
    "sourceRsCitySchema = ( \n",
    "    StructType()\n",
    "    .add(\"ok_city_id\",IntegerType())\n",
    "    .add(\"rs_city_id\",IntegerType()) \n",
    ")\n",
    "\n",
    "rsCityDF = ( \n",
    "    spark.read\n",
    "    .option(\"header\", \"false\")\n",
    "    .option(\"sep\", \"\\t\")\n",
    "    .schema(sourceRsCitySchema)\n",
    "    .csv(rs_city_path)\n",
    ")\n",
    "\n",
    "if debugMode:\n",
    "    rsCityDF.printSchema()\n",
    "    rsCityDF.show(3, False)"
   ]
  },
  {
   "cell_type": "markdown",
   "metadata": {},
   "source": [
    "## Обработка данных"
   ]
  },
  {
   "cell_type": "markdown",
   "metadata": {},
   "source": [
    "### Минимальная, максимальная и средняя цена по всем городам"
   ]
  },
  {
   "cell_type": "code",
   "execution_count": 12,
   "metadata": {},
   "outputs": [
    {
     "name": "stdout",
     "output_type": "stream",
     "text": [
      "+----------+---------+---------+---------+\n",
      "|product_id|min_price|max_price|price_avg|\n",
      "+----------+---------+---------+---------+\n",
      "|496       |50.0     |881.0    |281.19   |\n",
      "|471       |6000.0   |65901.11 |27692.07 |\n",
      "|463       |111.0    |589.0    |306.4    |\n",
      "|392       |432.81   |3847.08  |1000.81  |\n",
      "|243       |1411.76  |11936.51 |3557.27  |\n",
      "+----------+---------+---------+---------+\n",
      "only showing top 5 rows"
     ]
    }
   ],
   "source": [
    "priceStatDF = (\n",
    "    productForStatDF\n",
    "    .join(priceDF, productForStatDF.product_id == priceDF.product_id, how='inner')\n",
    "    .select(\n",
    "        productForStatDF.product_id,\n",
    "        sf.col(\"price\")\n",
    "    )\n",
    "    .groupBy(sf.col(\"product_id\"))\n",
    "    .agg(sf.min(\"price\").alias(\"min_price\"),\n",
    "         sf.max(\"price\").alias(\"max_price\"),\n",
    "         sf.round(sf.avg(\"price\"), 2).alias(\"price_avg\"))\n",
    ")\n",
    "\n",
    "if debugMode:\n",
    "    priceStatDF.show(5, False)"
   ]
  },
  {
   "cell_type": "code",
   "execution_count": 13,
   "metadata": {},
   "outputs": [],
   "source": [
    "(priceStatDF\n",
    " .repartition(1)\n",
    " .write\n",
    " .mode(\"overwrite\")\n",
    " .option(\"header\", \"true\")\n",
    " .option(\"sep\", \";\")\n",
    " .csv(\"{}/price_stat\".format(output_path))\n",
    ")"
   ]
  },
  {
   "cell_type": "code",
   "execution_count": 14,
   "metadata": {},
   "outputs": [
    {
     "name": "stdout",
     "output_type": "stream",
     "text": [
      "root\n",
      " |-- product_id: integer (nullable = true)\n",
      " |-- min_price: float (nullable = true)\n",
      " |-- max_price: float (nullable = true)\n",
      " |-- price_avg: float (nullable = true)\n",
      "\n",
      "+----------+---------+---------+---------+\n",
      "|product_id|min_price|max_price|price_avg|\n",
      "+----------+---------+---------+---------+\n",
      "|243       |1411.76  |11936.51 |3557.27  |\n",
      "|392       |432.81   |3847.08  |1000.81  |\n",
      "|31        |275.8    |659.32   |386.71   |\n",
      "+----------+---------+---------+---------+\n",
      "only showing top 3 rows"
     ]
    }
   ],
   "source": [
    "priceStatSchema = ( \n",
    "    StructType()\n",
    "    .add(\"product_id\",IntegerType())\n",
    "    .add(\"min_price\",FloatType())\n",
    "    .add(\"max_price\",FloatType())\n",
    "    .add(\"price_avg\",FloatType())\n",
    ")\n",
    "\n",
    "priceStatDF = ( \n",
    "    spark.read\n",
    "    .option(\"header\", \"true\")\n",
    "    .option(\"sep\", \";\")\n",
    "    .schema(priceStatSchema)\n",
    "    .csv(\"{}/price_stat\".format(output_path))\n",
    ")\n",
    "\n",
    "if debugMode:\n",
    "    priceStatDF.printSchema()\n",
    "    priceStatDF.show(3, False)"
   ]
  },
  {
   "cell_type": "markdown",
   "metadata": {},
   "source": [
    "#### Города в которых хотя бы один товар из списка продаётся по цене выше средней\n",
    " (Вспомогательная таблица)"
   ]
  },
  {
   "cell_type": "code",
   "execution_count": 15,
   "metadata": {},
   "outputs": [
    {
     "name": "stdout",
     "output_type": "stream",
     "text": [
      "+-------+\n",
      "|city_id|\n",
      "+-------+\n",
      "|125    |\n",
      "|7      |\n",
      "|124    |\n",
      "|51     |\n",
      "|205    |\n",
      "+-------+\n",
      "only showing top 5 rows"
     ]
    }
   ],
   "source": [
    "expensiveCityDF = (\n",
    "    priceDF\n",
    "    .groupBy(sf.col(\"city_id\"), sf.col(\"product_id\"))\n",
    "    .agg(sf.avg(\"price\").alias(\"local_price_avg\"))\n",
    "    .join(priceStatDF, priceStatDF.product_id == priceDF.product_id, how='inner')\n",
    "    .select(\n",
    "        sf.col(\"city_id\")\n",
    "    )\n",
    "    .where(sf.col(\"local_price_avg\") > sf.col(\"price_avg\"))\n",
    "    .distinct()\n",
    ")\n",
    "\n",
    "if debugMode:\n",
    "    expensiveCityDF.show(5, False)"
   ]
  },
  {
   "cell_type": "markdown",
   "metadata": {},
   "source": [
    "### Cтатистика для всех пользователей из городов, цена на товары в которых выше средней"
   ]
  },
  {
   "cell_type": "code",
   "execution_count": 16,
   "metadata": {},
   "outputs": [
    {
     "name": "stdout",
     "output_type": "stream",
     "text": [
      "+-------+--------+-------+-------+---------+---------+-----------+\n",
      "|city   |user_cnt|age_avg|men_cnt|women_cnt|men_share|women_share|\n",
      "+-------+--------+-------+-------+---------+---------+-----------+\n",
      "|Тара   |34777   |39.47  |8155   |26622    |0.23     |0.77       |\n",
      "|Городец|4498    |39.6   |1402   |3096     |0.31     |0.69       |\n",
      "|Юрга   |2120    |45.26  |594    |1526     |0.28     |0.72       |\n",
      "|Волхов |1961    |45.9   |477    |1484     |0.24     |0.76       |\n",
      "|Чита   |1751    |42.65  |217    |1534     |0.12     |0.88       |\n",
      "+-------+--------+-------+-------+---------+---------+-----------+\n",
      "only showing top 5 rows"
     ]
    }
   ],
   "source": [
    "okDemDF = (\n",
    "    coreDemographyDF\n",
    "    .join(rsCityDF, coreDemographyDF.id_city == rsCityDF.ok_city_id, how = \"inner\")\n",
    "    .join(cityDF, rsCityDF.rs_city_id == cityDF.city_id)\n",
    "    .select(\n",
    "        sf.col(\"city\"),\n",
    "        (sf.months_between(sf.to_date(sf.lit(current_dt)), sf.from_unixtime(\"birth_date\"))/12)\n",
    "        .cast(IntegerType()).alias('age'),\n",
    "        (sf.col(\"gender\") == 1).alias('man'),\n",
    "        (sf.col(\"gender\") == 2).alias('woman')\n",
    "    )\n",
    "    .groupBy(\"city\")\n",
    "    .agg(sf.count(\"man\").alias(\"user_cnt\"),\n",
    "         sf.round(sf.avg(\"age\"), 2).alias(\"age_avg\"),\n",
    "         sf.sum(sf.col(\"man\").cast(IntegerType())).alias(\"men_cnt\"),\n",
    "         sf.sum(sf.col(\"woman\").cast(IntegerType())).alias(\"women_cnt\")\n",
    "    )\n",
    "    .withColumn(\"men_share\", sf.round((sf.col(\"men_cnt\") / sf.col(\"user_cnt\")), 2))\n",
    "    .withColumn(\"women_share\", sf.round((1 - sf.col(\"men_share\")), 2))\n",
    "    .orderBy(sf.col(\"user_cnt\").desc())\n",
    ")\n",
    "\n",
    "if debugMode:\n",
    "    okDemDF.show(5, False)"
   ]
  },
  {
   "cell_type": "code",
   "execution_count": 17,
   "metadata": {},
   "outputs": [],
   "source": [
    "(okDemDF\n",
    " .repartition(1)\n",
    " .sortWithinPartitions(sf.col(\"user_cnt\").desc())\n",
    " .write\n",
    " .mode(\"overwrite\")\n",
    " .option(\"header\", \"true\")\n",
    " .option(\"sep\", \";\")\n",
    " .csv(\"{}/ok_dem\".format(output_path))\n",
    ")"
   ]
  },
  {
   "cell_type": "code",
   "execution_count": 18,
   "metadata": {},
   "outputs": [
    {
     "name": "stdout",
     "output_type": "stream",
     "text": [
      "root\n",
      " |-- city: string (nullable = true)\n",
      " |-- user_cnt: integer (nullable = true)\n",
      " |-- age_avg: float (nullable = true)\n",
      " |-- men_cnt: integer (nullable = true)\n",
      " |-- women_cnt: integer (nullable = true)\n",
      " |-- men_share: float (nullable = true)\n",
      " |-- women_share: float (nullable = true)\n",
      "\n",
      "+-------+--------+-------+-------+---------+---------+-----------+\n",
      "|city   |user_cnt|age_avg|men_cnt|women_cnt|men_share|women_share|\n",
      "+-------+--------+-------+-------+---------+---------+-----------+\n",
      "|Тара   |34777   |39.47  |8155   |26622    |0.23     |0.77       |\n",
      "|Городец|4498    |39.6   |1402   |3096     |0.31     |0.69       |\n",
      "|Юрга   |2120    |45.26  |594    |1526     |0.28     |0.72       |\n",
      "+-------+--------+-------+-------+---------+---------+-----------+\n",
      "only showing top 3 rows"
     ]
    }
   ],
   "source": [
    "okDemSchema = ( \n",
    "    StructType()\n",
    "    .add(\"city\",StringType())\n",
    "    .add(\"user_cnt\",IntegerType())\n",
    "    .add(\"age_avg\",FloatType())\n",
    "    .add(\"men_cnt\",IntegerType())\n",
    "    .add(\"women_cnt\",IntegerType())\n",
    "    .add(\"men_share\",FloatType())\n",
    "    .add(\"women_share\",FloatType())\n",
    ")\n",
    "\n",
    "okDemDF = ( \n",
    "    spark.read\n",
    "    .option(\"header\", \"true\")\n",
    "    .option(\"sep\", \";\")\n",
    "    .schema(okDemSchema)\n",
    "    .csv(\"{}/ok_dem\".format(output_path))\n",
    ")\n",
    "\n",
    "if debugMode:\n",
    "    okDemDF.printSchema()\n",
    "    okDemDF.show(3, False)"
   ]
  },
  {
   "cell_type": "markdown",
   "metadata": {},
   "source": [
    "#### Города с максимальным и минимальным средним возрастом, максимальной долей мужчин и максимальной долей женщин\n",
    " (Вспомогательная таблица)"
   ]
  },
  {
   "cell_type": "code",
   "execution_count": 19,
   "metadata": {},
   "outputs": [
    {
     "name": "stdout",
     "output_type": "stream",
     "text": [
      "+-------------+-------+\n",
      "|         city|city_id|\n",
      "+-------------+-------+\n",
      "|        Канаш|    160|\n",
      "|  Симферополь|    105|\n",
      "|       Тихвин|     88|\n",
      "|Сергиев Посад|     38|\n",
      "|       Казань|    153|\n",
      "+-------------+-------+"
     ]
    }
   ],
   "source": [
    "requirements = (\n",
    "    okDemDF\n",
    "    .agg(\n",
    "        sf.round(sf.max(\"age_avg\"), 2).alias(\"max_avg_age\"),\n",
    "        sf.min(\"age_avg\").alias(\"min_avg_age\"),\n",
    "        sf.max(\"men_share\").alias(\"max_men_share\"),\n",
    "        sf.max(\"women_share\").alias(\"max_women_share\")\n",
    "    )\n",
    ").collect()\n",
    "\n",
    "maxAvgAge = requirements[0][0]\n",
    "mixAvgAge = requirements[0][1]\n",
    "maxMenShare = requirements[0][2]\n",
    "maxWomenShare = requirements[0][3]\n",
    "\n",
    "eps = 0.001 # константа для сравнения вещественных чисел\n",
    "\n",
    "selectedCitiesDF = (\n",
    "    okDemDF\n",
    "    .select(\"city\")\n",
    "    .filter((sf.abs(sf.round(sf.col(\"age_avg\"), 2) - maxAvgAge) < eps) \n",
    "            | (sf.abs(sf.round(sf.col(\"age_avg\"), 2) - mixAvgAge) < eps)\n",
    "            | (sf.abs(sf.round(sf.col(\"men_share\"), 2) - maxMenShare) < eps)\n",
    "            | (sf.abs(sf.round(sf.col(\"women_share\"), 2) - maxWomenShare) < eps)\n",
    "            )\n",
    "    .join(cityDF, okDemDF.city == cityDF.city, how = \"inner\")\n",
    "    .select (\n",
    "        cityDF.city,\n",
    "        \"city_id\"\n",
    "    )\n",
    ")\n",
    "\n",
    "if debugMode:\n",
    "    selectedCitiesDF.show()"
   ]
  },
  {
   "cell_type": "markdown",
   "metadata": {},
   "source": [
    "### Cамый дешевый и самый дорогой товары для выбранных городов, а также разница в цене между ними"
   ]
  },
  {
   "cell_type": "code",
   "execution_count": 20,
   "metadata": {},
   "outputs": [
    {
     "name": "stdout",
     "output_type": "stream",
     "text": [
      "+-------------+---------------------+---------------------------+----------------+\n",
      "|    city_name|cheapest_product_name|most_expensive_product_name|price_difference|\n",
      "+-------------+---------------------+---------------------------+----------------+\n",
      "|  Симферополь|      Спички, коробок|       Легковой автомоби...|        790489.3|\n",
      "|       Казань| Предоставление ме...|       Легковой автомоби...|        909921.8|\n",
      "|Сергиев Посад| Предоставление ме...|       Поездка в Китай, ...|        70000.65|\n",
      "|       Тихвин| Предоставление ме...|       Легковой автомоби...|       619285.94|\n",
      "|        Канаш| Предоставление ме...|       Годовая стоимость...|        43383.27|\n",
      "+-------------+---------------------+---------------------------+----------------+"
     ]
    }
   ],
   "source": [
    "cityPriceDF = (\n",
    "    selectedCitiesDF\n",
    "    .join(sf.broadcast(priceDF), selectedCitiesDF.city_id == priceDF.city_id, how = \"inner\")\n",
    "    .join(sf.broadcast(productDF), priceDF.product_id == productDF.product_id, how = \"inner\")\n",
    "    .select(sf.col(\"city\").alias(\"city_name\"),\n",
    "            selectedCitiesDF.city_id,\n",
    "            \"product\",\n",
    "            \"price\"\n",
    "    )\n",
    ")\n",
    "\n",
    "productPriceStatDF = (\n",
    "    cityPriceDF\n",
    "    .groupBy(\"city_id\")\n",
    "    .agg(sf.min(\"price\").alias(\"cheapest_product_price\"),\n",
    "         sf.max(\"price\").alias(\"most_expensive_product_price\")\n",
    "        )\n",
    "    .withColumn(\"price_difference\", sf.col(\"most_expensive_product_price\") - sf.col(\"cheapest_product_price\"))\n",
    ")\n",
    "\n",
    "productStatDF = (\n",
    "    cityPriceDF\n",
    "    .join(productPriceStatDF, cityPriceDF.city_id == productPriceStatDF.city_id)\n",
    "    .withColumn(\"cheapest_product_name\", \n",
    "                sf.when(sf.col(\"price\") == sf.col(\"cheapest_product_price\"), sf.col(\"product\"))\n",
    "                .otherwise(None)\n",
    "               )\n",
    "    .withColumn(\"most_expensive_product_name\", \n",
    "                sf.when(sf.col(\"price\") == sf.col(\"most_expensive_product_price\"), sf.col(\"product\"))\n",
    "                .otherwise(None)\n",
    "               )\n",
    "    .select(\"city_name\",\n",
    "            \"cheapest_product_name\",\n",
    "            \"most_expensive_product_name\",\n",
    "            \"price_difference\"\n",
    "    )\n",
    "    .groupBy(\"city_name\")\n",
    "    .agg(\n",
    "        sf.max(sf.col(\"cheapest_product_name\")).alias(\"cheapest_product_name\"),\n",
    "        sf.max(sf.col(\"most_expensive_product_name\")).alias(\"most_expensive_product_name\"),\n",
    "        sf.max(sf.col(\"price_difference\")).alias(\"price_difference\")\n",
    "    )\n",
    ")\n",
    "\n",
    "if debugMode:\n",
    "    productStatDF.show(10)"
   ]
  },
  {
   "cell_type": "markdown",
   "metadata": {},
   "source": [
    "### Сохраняем результаты на HDFS"
   ]
  },
  {
   "cell_type": "code",
   "execution_count": 21,
   "metadata": {},
   "outputs": [],
   "source": [
    "(productStatDF\n",
    " .repartition(1)\n",
    " .write\n",
    " .mode(\"overwrite\")\n",
    " .option(\"header\", \"true\")\n",
    " .option(\"sep\", \";\")\n",
    " .csv(\"{}/product_stat\".format(output_path))\n",
    ")"
   ]
  },
  {
   "cell_type": "code",
   "execution_count": 22,
   "metadata": {},
   "outputs": [],
   "source": [
    "spark.stop()"
   ]
  },
  {
   "cell_type": "code",
   "execution_count": null,
   "metadata": {},
   "outputs": [],
   "source": []
  }
 ],
 "metadata": {
  "kernelspec": {
   "display_name": "PySpark",
   "language": "",
   "name": "pysparkkernel"
  },
  "language_info": {
   "codemirror_mode": {
    "name": "python",
    "version": 2
   },
   "mimetype": "text/x-python",
   "name": "pyspark",
   "pygments_lexer": "python2"
  }
 },
 "nbformat": 4,
 "nbformat_minor": 2
}
